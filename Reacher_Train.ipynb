{
 "cells": [
  {
   "cell_type": "markdown",
   "metadata": {},
   "source": [
    "# Continuous Control\n",
    "\n",
    "---\n",
    "\n",
    "In this notebook, you will learn how to use the Unity ML-Agents environment for the second project of the [Deep Reinforcement Learning Nanodegree](https://www.udacity.com/course/deep-reinforcement-learning-nanodegree--nd893) program.\n",
    "\n",
    "### 1. Start the Environment\n",
    "\n",
    "We begin by importing the necessary packages.  If the code cell below returns an error, please revisit the project instructions to double-check that you have installed [Unity ML-Agents](https://github.com/Unity-Technologies/ml-agents/blob/master/docs/Installation.md) and [NumPy](http://www.numpy.org/)."
   ]
  },
  {
   "cell_type": "code",
   "execution_count": null,
   "metadata": {},
   "outputs": [],
   "source": [
    "from unityagents import UnityEnvironment\n",
    "import numpy as np"
   ]
  },
  {
   "cell_type": "markdown",
   "metadata": {},
   "source": [
    "Next, we will start the environment!  **_Before running the code cell below_**, change the `file_name` parameter to match the location of the Unity environment that you downloaded.\n",
    "\n",
    "- **Mac**: `\"path/to/Reacher.app\"`\n",
    "- **Windows** (x86): `\"path/to/Reacher_Windows_x86/Reacher.exe\"`\n",
    "- **Windows** (x86_64): `\"path/to/Reacher_Windows_x86_64/Reacher.exe\"`\n",
    "- **Linux** (x86): `\"path/to/Reacher_Linux/Reacher.x86\"`\n",
    "- **Linux** (x86_64): `\"path/to/Reacher_Linux/Reacher.x86_64\"`\n",
    "- **Linux** (x86, headless): `\"path/to/Reacher_Linux_NoVis/Reacher.x86\"`\n",
    "- **Linux** (x86_64, headless): `\"path/to/Reacher_Linux_NoVis/Reacher.x86_64\"`\n",
    "\n",
    "For instance, if you are using a Mac, then you downloaded `Reacher.app`.  If this file is in the same folder as the notebook, then the line below should appear as follows:\n",
    "```\n",
    "env = UnityEnvironment(file_name=\"Reacher.app\")\n",
    "```"
   ]
  },
  {
   "cell_type": "code",
   "execution_count": null,
   "metadata": {},
   "outputs": [],
   "source": [
    "env = UnityEnvironment(file_name='D:/Projects/deep-reinforcement-learning/p2_continuous-control/Reacher_Windows_x86_64/Reacher.exe')"
   ]
  },
  {
   "cell_type": "markdown",
   "metadata": {},
   "source": [
    "Environments contain **_brains_** which are responsible for deciding the actions of their associated agents. Here we check for the first brain available, and set it as the default brain we will be controlling from Python."
   ]
  },
  {
   "cell_type": "code",
   "execution_count": null,
   "metadata": {},
   "outputs": [],
   "source": [
    "# get the default brain\n",
    "brain_name = env.brain_names[0]\n",
    "brain = env.brains[brain_name]"
   ]
  },
  {
   "cell_type": "markdown",
   "metadata": {},
   "source": [
    "### 2. Examine the State and Action Spaces\n",
    "\n",
    "In this environment, a double-jointed arm can move to target locations. A reward of `+0.1` is provided for each step that the agent's hand is in the goal location. Thus, the goal of your agent is to maintain its position at the target location for as many time steps as possible.\n",
    "\n",
    "The observation space consists of `33` variables corresponding to position, rotation, velocity, and angular velocities of the arm.  Each action is a vector with four numbers, corresponding to torque applicable to two joints.  Every entry in the action vector must be a number between `-1` and `1`.\n",
    "\n",
    "Run the code cell below to print some information about the environment."
   ]
  },
  {
   "cell_type": "code",
   "execution_count": null,
   "metadata": {},
   "outputs": [],
   "source": [
    "# reset the environment\n",
    "env_info = env.reset(train_mode=True)[brain_name]\n",
    "\n",
    "# number of agents\n",
    "num_agents = len(env_info.agents)\n",
    "print('Number of agents:', num_agents)\n",
    "\n",
    "# size of each action\n",
    "action_size = brain.vector_action_space_size\n",
    "print('Size of each action:', action_size)\n",
    "\n",
    "# examine the state space \n",
    "states = env_info.vector_observations\n",
    "state_size = states.shape[1]\n",
    "print('There are {} agents. Each observes a state with length: {}'.format(states.shape[0], state_size))\n",
    "print('The state for the first agent looks like:', states[0])"
   ]
  },
  {
   "cell_type": "markdown",
   "metadata": {},
   "source": [
    "### 3. Take Random Actions in the Environment\n",
    "\n",
    "In the next code cell, you will learn how to use the Python API to control the agent and receive feedback from the environment.\n",
    "\n",
    "Once this cell is executed, you will watch the agent's performance, if it selects an action at random with each time step.  A window should pop up that allows you to observe the agent, as it moves through the environment.  \n",
    "\n",
    "Of course, as part of the project, you'll have to change the code so that the agent is able to use its experience to gradually choose better actions when interacting with the environment!"
   ]
  },
  {
   "cell_type": "code",
   "execution_count": null,
   "metadata": {},
   "outputs": [],
   "source": [
    "env_info = env.reset(train_mode=False)[brain_name]     # reset the environment    \n",
    "states = env_info.vector_observations                  # get the current state (for each agent)\n",
    "scores = np.zeros(num_agents)                          # initialize the score (for each agent)\n",
    "while True:\n",
    "    actions = np.random.randn(num_agents, action_size) # select an action (for each agent)\n",
    "    actions = np.clip(actions, -1, 1)                  # all actions between -1 and 1\n",
    "    env_info = env.step(actions)[brain_name]           # send all actions to tne environment\n",
    "    next_states = env_info.vector_observations         # get next state (for each agent)\n",
    "    rewards = env_info.rewards                         # get reward (for each agent)\n",
    "    dones = env_info.local_done                        # see if episode finished\n",
    "    scores += env_info.rewards                         # update the score (for each agent)\n",
    "    states = next_states                               # roll over states to next time step\n",
    "    if np.any(dones):                                  # exit loop if episode finished\n",
    "        break\n",
    "print('Total score (averaged over agents) this episode: {}'.format(np.mean(scores)))"
   ]
  },
  {
   "cell_type": "markdown",
   "metadata": {},
   "source": [
    "When finished, you can close the environment."
   ]
  },
  {
   "cell_type": "code",
   "execution_count": null,
   "metadata": {},
   "outputs": [],
   "source": [
    "env.close()"
   ]
  },
  {
   "cell_type": "markdown",
   "metadata": {},
   "source": [
    "### 4. Train the agent!\n",
    "\n",
    "Run the following code to train the agent"
   ]
  },
  {
   "cell_type": "code",
   "execution_count": 1,
   "metadata": {},
   "outputs": [
    {
     "name": "stderr",
     "output_type": "stream",
     "text": [
      "INFO:unityagents:\n",
      "'Academy' started successfully!\n",
      "Unity Academy name: Academy\n",
      "        Number of Brains: 1\n",
      "        Number of External Brains : 1\n",
      "        Lesson number : 0\n",
      "        Reset Parameters :\n",
      "\t\tgoal_speed -> 1.0\n",
      "\t\tgoal_size -> 5.0\n",
      "Unity brain name: ReacherBrain\n",
      "        Number of Visual Observations (per agent): 0\n",
      "        Vector Observation space type: continuous\n",
      "        Vector Observation space size (per agent): 33\n",
      "        Number of stacked Vector Observation: 1\n",
      "        Vector Action space type: continuous\n",
      "        Vector Action space size (per agent): 4\n",
      "        Vector Action descriptions: , , , \n"
     ]
    },
    {
     "name": "stdout",
     "output_type": "stream",
     "text": [
      "Number of agents: 20\n",
      "Size of each action: 4\n",
      "There are 20 agents. Each observes a state with length: 33\n",
      "The state for the first agent looks like: [ 0.00000000e+00 -4.00000000e+00  0.00000000e+00  1.00000000e+00\n",
      " -0.00000000e+00 -0.00000000e+00 -4.37113883e-08  0.00000000e+00\n",
      "  0.00000000e+00  0.00000000e+00  0.00000000e+00  0.00000000e+00\n",
      "  0.00000000e+00  0.00000000e+00 -1.00000000e+01  0.00000000e+00\n",
      "  1.00000000e+00 -0.00000000e+00 -0.00000000e+00 -4.37113883e-08\n",
      "  0.00000000e+00  0.00000000e+00  0.00000000e+00  0.00000000e+00\n",
      "  0.00000000e+00  0.00000000e+00  5.75471878e+00 -1.00000000e+00\n",
      "  5.55726624e+00  0.00000000e+00  1.00000000e+00  0.00000000e+00\n",
      " -1.68164849e-01]\n"
     ]
    }
   ],
   "source": [
    "from unityagents import UnityEnvironment\n",
    "from collections import deque\n",
    "from ddpg_agent import Agent\n",
    "import numpy as np\n",
    "import torch\n",
    "import matplotlib.pyplot as plt\n",
    "%matplotlib inline\n",
    "\n",
    "env = UnityEnvironment(file_name='D:/Projects/deep-reinforcement-learning/p2_continuous-control/Reacher_multi_agent_Windows_x86_64/Reacher.exe')\n",
    "\n",
    "# get the default brain\n",
    "brain_name = env.brain_names[0]\n",
    "brain = env.brains[brain_name]\n",
    "\n",
    "# reset the environment\n",
    "env_info = env.reset(train_mode=True)[brain_name]\n",
    "\n",
    "# number of agents\n",
    "num_agents = len(env_info.agents)\n",
    "print('Number of agents:', num_agents)\n",
    "\n",
    "# size of each action\n",
    "action_size = brain.vector_action_space_size\n",
    "print('Size of each action:', action_size)\n",
    "\n",
    "# examine the state space \n",
    "states = env_info.vector_observations\n",
    "state_size = states.shape[1]\n",
    "print('There are {} agents. Each observes a state with length: {}'.format(states.shape[0], state_size))\n",
    "print('The state for the first agent looks like:', states[0])\n",
    "\n",
    "agent = Agent(state_size, action_size, num_agents, random_seed=np.random.randint(19920320))"
   ]
  },
  {
   "cell_type": "code",
   "execution_count": 2,
   "metadata": {},
   "outputs": [
    {
     "name": "stdout",
     "output_type": "stream",
     "text": [
      "Episode 1\t Score: 0.26\n",
      "Episode 2\t Score: 0.00\n",
      "Episode 3\t Score: 0.02\n",
      "Episode 4\t Score: 0.28\n",
      "Episode 5\t Score: 0.37\n",
      "Episode 6\t Score: 0.47\n",
      "Episode 7\t Score: 0.85\n",
      "Episode 8\t Score: 1.06\n",
      "Episode 9\t Score: 0.98\n",
      "Episode 10\t Score: 1.18\n",
      "Episode 10\tAverage Score: 0.55\n",
      "Episode 11\t Score: 1.60\n",
      "Episode 12\t Score: 1.42\n",
      "Episode 13\t Score: 1.86\n",
      "Episode 14\t Score: 2.51\n",
      "Episode 15\t Score: 2.21\n",
      "Episode 16\t Score: 2.65\n",
      "Episode 17\t Score: 3.20\n",
      "Episode 18\t Score: 3.22\n",
      "Episode 19\t Score: 4.05\n",
      "Episode 20\t Score: 3.56\n",
      "Episode 20\tAverage Score: 1.59\n",
      "Episode 21\t Score: 4.10\n",
      "Episode 22\t Score: 5.74\n",
      "Episode 23\t Score: 6.94\n",
      "Episode 24\t Score: 6.33\n",
      "Episode 25\t Score: 7.17\n",
      "Episode 26\t Score: 6.08\n",
      "Episode 27\t Score: 7.39\n",
      "Episode 28\t Score: 6.35\n",
      "Episode 29\t Score: 6.97\n",
      "Episode 30\t Score: 6.99\n",
      "Episode 30\tAverage Score: 3.19\n",
      "Episode 31\t Score: 9.54\n",
      "Episode 32\t Score: 9.28\n",
      "Episode 33\t Score: 9.64\n",
      "Episode 34\t Score: 11.38\n",
      "Episode 35\t Score: 12.66\n",
      "Episode 36\t Score: 9.69\n",
      "Episode 37\t Score: 11.21\n",
      "Episode 38\t Score: 11.08\n",
      "Episode 39\t Score: 11.86\n",
      "Episode 40\t Score: 10.35\n",
      "Episode 40\tAverage Score: 5.06\n",
      "Episode 41\t Score: 12.94\n",
      "Episode 42\t Score: 18.22\n",
      "Episode 43\t Score: 20.53\n",
      "Episode 44\t Score: 19.46\n",
      "Episode 45\t Score: 20.52\n",
      "Episode 46\t Score: 24.39\n",
      "Episode 47\t Score: 20.66\n",
      "Episode 48\t Score: 24.60\n",
      "Episode 49\t Score: 28.92\n",
      "Episode 50\t Score: 28.13\n",
      "Episode 50\tAverage Score: 8.42\n",
      "Episode 51\t Score: 31.06\n",
      "Episode 52\t Score: 30.47\n",
      "Episode 53\t Score: 28.73\n",
      "Episode 54\t Score: 33.25\n",
      "Episode 55\t Score: 33.96\n",
      "Episode 56\t Score: 31.20\n",
      "Episode 57\t Score: 32.63\n",
      "Episode 58\t Score: 29.82\n",
      "Episode 59\t Score: 32.55\n",
      "Episode 60\t Score: 34.08\n",
      "Episode 60\tAverage Score: 12.31\n",
      "Episode 61\t Score: 34.30\n",
      "Episode 62\t Score: 32.53\n",
      "Episode 63\t Score: 34.92\n",
      "Episode 64\t Score: 35.15\n",
      "Episode 65\t Score: 35.22\n",
      "Episode 66\t Score: 33.38\n",
      "Episode 67\t Score: 32.80\n",
      "Episode 68\t Score: 33.21\n",
      "Episode 69\t Score: 29.97\n",
      "Episode 70\t Score: 34.22\n",
      "Episode 70\tAverage Score: 15.35\n",
      "Episode 71\t Score: 35.44\n",
      "Episode 72\t Score: 35.11\n",
      "Episode 73\t Score: 34.72\n",
      "Episode 74\t Score: 36.14\n",
      "Episode 75\t Score: 35.02\n",
      "Episode 76\t Score: 35.86\n",
      "Episode 77\t Score: 35.47\n",
      "Episode 78\t Score: 31.89\n",
      "Episode 79\t Score: 34.53\n",
      "Episode 80\t Score: 33.57\n",
      "Episode 80\tAverage Score: 17.78\n",
      "Episode 81\t Score: 33.12\n",
      "Episode 82\t Score: 36.21\n",
      "Episode 83\t Score: 36.27\n",
      "Episode 84\t Score: 36.16\n",
      "Episode 85\t Score: 37.56\n",
      "Episode 86\t Score: 37.89\n",
      "Episode 87\t Score: 35.92\n",
      "Episode 88\t Score: 36.72\n",
      "Episode 89\t Score: 37.37\n",
      "Episode 90\t Score: 37.70\n",
      "Episode 90\tAverage Score: 19.86\n",
      "Episode 91\t Score: 37.15\n",
      "Episode 92\t Score: 36.67\n",
      "Episode 93\t Score: 36.50\n",
      "Episode 94\t Score: 37.50\n",
      "Episode 95\t Score: 36.75\n",
      "Episode 96\t Score: 36.30\n",
      "Episode 97\t Score: 37.49\n",
      "Episode 98\t Score: 37.54\n",
      "Episode 99\t Score: 36.78\n",
      "Episode 100\t Score: 36.84\n",
      "Episode 100\tAverage Score: 21.57\n",
      "Episode 101\t Score: 38.26\n",
      "Episode 102\t Score: 35.78\n",
      "Episode 103\t Score: 36.33\n",
      "Episode 104\t Score: 37.54\n",
      "Episode 105\t Score: 36.32\n",
      "Episode 106\t Score: 38.11\n",
      "Episode 107\t Score: 34.70\n",
      "Episode 108\t Score: 34.66\n",
      "Episode 109\t Score: 36.32\n",
      "Episode 110\t Score: 34.39\n",
      "Episode 110\tAverage Score: 25.13\n",
      "Episode 111\t Score: 35.62\n",
      "Episode 112\t Score: 36.77\n",
      "Episode 113\t Score: 38.31\n",
      "Episode 114\t Score: 35.51\n",
      "Episode 115\t Score: 34.91\n",
      "Episode 116\t Score: 37.05\n",
      "Episode 117\t Score: 39.04\n",
      "Episode 118\t Score: 38.64\n",
      "Episode 119\t Score: 37.74\n",
      "Episode 120\t Score: 37.17\n",
      "Episode 120\tAverage Score: 28.58\n",
      "Episode 121\t Score: 37.89\n",
      "Episode 122\t Score: 38.26\n",
      "Episode 123\t Score: 39.02\n",
      "Episode 124\t Score: 37.36\n",
      "Episode 125\t Score: 38.26\n",
      "Environment solved in 125 episodes\n"
     ]
    },
    {
     "data": {
      "image/png": "[encoded data removed]",
      "text/plain": [
       "<Figure size 432x288 with 1 Axes>"
      ]
     },
     "metadata": {
      "needs_background": "light"
     },
     "output_type": "display_data"
    }
   ],
   "source": [
    "def ddpg(n_episodes=300, max_t=1000, window_len=100, print_every=10):\n",
    "    scores_deque = deque(maxlen=window_len)\n",
    "    scores = []\n",
    "    for i_episode in range(1, n_episodes+1):\n",
    "        env_info = env.reset(train_mode=True)[brain_name]\n",
    "        states = env_info.vector_observations\n",
    "        agent.reset()\n",
    "        score = np.zeros(num_agents)\n",
    "        for t in range(max_t):\n",
    "            actions = agent.act(states)\n",
    "            env_info = env.step(actions)[brain_name]\n",
    "            next_states = env_info.vector_observations\n",
    "            rewards = env_info.rewards\n",
    "            dones = env_info.local_done\n",
    "            agent.step(states, actions, rewards, next_states, dones)\n",
    "            states = next_states\n",
    "            score += rewards\n",
    "            if any(dones):\n",
    "                break\n",
    "        scores_deque.append(np.mean(score))\n",
    "        scores.append(np.mean(score))\n",
    "        print('\\rEpisode {}\\t Score: {:.2f}'.format(i_episode, np.mean(score)))\n",
    "        if i_episode % print_every == 0:\n",
    "            print('\\rEpisode {}\\tAverage Score: {:.2f}'.format(i_episode, np.mean(scores_deque)))\n",
    "        if np.mean(scores_deque) > 30.0:\n",
    "            print('Environment solved in {} episodes'.format(i_episode))\n",
    "            torch.save(agent.actor_local.state_dict(), 'checkpoint_actor.pth')\n",
    "            torch.save(agent.critic_local.state_dict(), 'checkpoint_critic.pth')\n",
    "            break\n",
    "    return scores\n",
    "\n",
    "scores = ddpg()\n",
    "\n",
    "fig = plt.figure()\n",
    "ax = fig.add_subplot(111)\n",
    "plt.plot(np.arange(1, len(scores)+1), scores)\n",
    "plt.ylabel('Score')\n",
    "plt.xlabel('Episode #')\n",
    "plt.show()"
   ]
  },
  {
   "cell_type": "code",
   "execution_count": null,
   "metadata": {},
   "outputs": [],
   "source": [
    "env.close()"
   ]
  },
  {
   "cell_type": "code",
   "execution_count": null,
   "metadata": {},
   "outputs": [],
   "source": []
  }
 ],
 "metadata": {
  "kernelspec": {
   "display_name": "Python 3",
   "language": "python",
   "name": "python3"
  },
  "language_info": {
   "codemirror_mode": {
    "name": "ipython",
    "version": 3
   },
   "file_extension": ".py",
   "mimetype": "text/x-python",
   "name": "python",
   "nbconvert_exporter": "python",
   "pygments_lexer": "ipython3",
   "version": "3.6.8"
  }
 },
 "nbformat": 4,
 "nbformat_minor": 2
}
